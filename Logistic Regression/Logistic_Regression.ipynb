{
 "cells": [
  {
   "cell_type": "code",
   "execution_count": 1,
   "metadata": {},
   "outputs": [],
   "source": [
    "\n",
    "import numpy as np\n",
    "import matplotlib.pyplot as plt\n",
    "import pandas as pd\n",
    "from sklearn.model_selection import train_test_split"
   ]
  },
  {
   "cell_type": "code",
   "execution_count": 2,
   "metadata": {},
   "outputs": [],
   "source": [
    "def sigmoid(x):\n",
    "    return 1/(1+np.exp(-x))"
   ]
  },
  {
   "cell_type": "code",
   "execution_count": 104,
   "metadata": {},
   "outputs": [],
   "source": [
    "def logreg(X,Y):\n",
    "    param = np.size(xtrain,axis=1)\n",
    "    X = X.T\n",
    "    theta = np.random.rand(param,1) - 0.5\n",
    "    print(\"Before: \" + str(theta))\n",
    "    learnrate = 0.015355\n",
    "    maxiter = 100000\n",
    "    for itr in range(0, maxiter):\n",
    "        f = sigmoid(np.matmul(X.T,theta))\n",
    "        df = f * (1-f)\n",
    "        gradient = np.matmul( X, np.multiply(f-Y,df) )\n",
    "        theta -= learnrate * gradient\n",
    "    return (theta)"
   ]
  },
  {
   "cell_type": "code",
   "execution_count": 105,
   "metadata": {},
   "outputs": [
    {
     "name": "stdout",
     "output_type": "stream",
     "text": [
      "     admit  gre   gpa  rank  Ones\n",
      "0        0  380  3.61     3     1\n",
      "1        1  660  3.67     3     1\n",
      "2        1  800  4.00     1     1\n",
      "3        1  640  3.19     4     1\n",
      "4        0  520  2.93     4     1\n",
      "..     ...  ...   ...   ...   ...\n",
      "395      0  620  4.00     2     1\n",
      "396      0  560  3.04     3     1\n",
      "397      0  460  2.63     2     1\n",
      "398      0  700  3.65     2     1\n",
      "399      0  600  3.89     3     1\n",
      "\n",
      "[400 rows x 5 columns]\n"
     ]
    }
   ],
   "source": [
    "data = pd.read_csv(\"Admit.csv\")\n",
    "data['Ones'] = 1\n",
    "print (data)"
   ]
  },
  {
   "cell_type": "code",
   "execution_count": 106,
   "metadata": {},
   "outputs": [
    {
     "data": {
      "image/png": "[encoded data removed]",
      "text/plain": [
       "<Figure size 1224x720 with 4 Axes>"
      ]
     },
     "metadata": {
      "needs_background": "light"
     },
     "output_type": "display_data"
    }
   ],
   "source": [
    "fig, ax_arr = plt.subplots(nrows=2, ncols=2, # let their scales be different\n",
    "                       sharex=False, sharey=False)\n",
    "\n",
    "fig.set_figwidth(17)\n",
    "fig.set_figheight(10)\n",
    "\n",
    "ax_arr[0][0].set_title('GRE')\n",
    "freq_arr, binarr, _ = ax_arr[0][0].hist(data['gre'], facecolor='g', alpha=0.3)\n",
    "ax_arr[0][0].grid()\n",
    "\n",
    "ax_arr[0][1].set_title('GPA')\n",
    "freq_arr, binarr, _ = ax_arr[0][1].hist(data['gpa'], facecolor='r', alpha=0.5)\n",
    "ax_arr[0][1].grid()\n",
    "\n",
    "ax_arr[1][0].set_title('RANK')\n",
    "freq_arr, binarr, _ = ax_arr[1][0].hist(data['rank'], facecolor='r', alpha=0.5)\n",
    "ax_arr[1][0].grid()"
   ]
  },
  {
   "cell_type": "code",
   "execution_count": 124,
   "metadata": {},
   "outputs": [],
   "source": [
    "#Seperating All ones and zeros\n",
    "mat = np.array(data[['admit','Ones','gre','gpa','rank']])\n",
    "max = np.max(mat, axis=0)\n",
    "mat = mat/max\n",
    "one_mat = mat[mat[:,0] == 1]\n",
    "zero_mat = mat[mat[:,0] == 0]\n",
    "\n",
    "#Removing Biased Data As number of students not admitted are more than number of student admitted\n",
    "#np.random.shuffle(zero_mat)\n",
    "zero_mat = zero_mat[0:127,:]\n",
    "\n",
    "#Seperating Testing and Training Data\n",
    "perc = 0.8\n",
    "train = one_mat[ 0: int( perc*np.size(one_mat,0) ) , :]\n",
    "test = one_mat[ int( perc*np.size(one_mat,0) ): , :] \n",
    "train = np.append( train, zero_mat[ 0: int( perc*np.size(zero_mat,0) ) ,:], 0 )\n",
    "test = np.append( test, zero_mat[ int( perc*np.size(zero_mat,0) ): , :], 0 )\n",
    "\n",
    "np.random.shuffle(train)\n",
    "np.random.shuffle(test)\n",
    "\n",
    "xtrain = train[:, 1:np.size(train,1)]\n",
    "ytrain = train[:, 0:1]\n",
    "xtest = test[:, 1:np.size(test,1)]\n",
    "ytest = test[:, 0:1]"
   ]
  },
  {
   "cell_type": "code",
   "execution_count": 125,
   "metadata": {},
   "outputs": [
    {
     "name": "stdout",
     "output_type": "stream",
     "text": [
      "Before: [[ 0.38082075]\n",
      " [-0.19454001]\n",
      " [-0.27807286]\n",
      " [ 0.07565773]]\n",
      "After: [[-2.26224884]\n",
      " [ 2.10184135]\n",
      " [ 2.54454498]\n",
      " [-2.38563791]]\n"
     ]
    }
   ],
   "source": [
    "theta = logreg(xtrain, ytrain)\n",
    "print(\"After: \" + str(theta))"
   ]
  },
  {
   "cell_type": "code",
   "execution_count": 126,
   "metadata": {},
   "outputs": [],
   "source": [
    "res = np.round( sigmoid( np.matmul(xtest, theta) ) )"
   ]
  },
  {
   "cell_type": "code",
   "execution_count": 127,
   "metadata": {},
   "outputs": [],
   "source": [
    "error = (res - ytest)**2"
   ]
  },
  {
   "cell_type": "code",
   "execution_count": 128,
   "metadata": {},
   "outputs": [
    {
     "name": "stdout",
     "output_type": "stream",
     "text": [
      "0.6923076923076923\n"
     ]
    }
   ],
   "source": [
    "no_of_matches = np.sum( res == ytest)\n",
    "accuracy = no_of_matches/len(ytest)\n",
    "#Accuracy Calculation\n",
    "print (accuracy)"
   ]
  },
  {
   "cell_type": "code",
   "execution_count": 129,
   "metadata": {},
   "outputs": [
    {
     "data": {
      "text/plain": [
       "Text(0, 0.5, 'ApplicationNumber')"
      ]
     },
     "execution_count": 129,
     "metadata": {},
     "output_type": "execute_result"
    },
    {
     "data": {
      "image/png": "[encoded data removed]",
      "text/plain": [
       "<Figure size 1152x504 with 2 Axes>"
      ]
     },
     "metadata": {
      "needs_background": "light"
     },
     "output_type": "display_data"
    }
   ],
   "source": [
    "fig, arr = plt.subplots(nrows=2, ncols=1, sharex=False, sharey=True)\n",
    "\n",
    "fig.set_figwidth(16)\n",
    "fig.set_figheight(7)\n",
    "\n",
    "arr[0].scatter (np.arange(len(res)),res,c='r' )\n",
    "arr[0].set_title('Predicted Result')\n",
    "arr[0].set_ylabel('ApplicationNumber')\n",
    "\n",
    "arr[1].scatter (np.arange(len(ytest)),ytest, c='b' )\n",
    "arr[1].set_title('Actual Result')\n",
    "arr[1].set_xlabel('Result')\n",
    "arr[1].set_ylabel('ApplicationNumber')"
   ]
  },
  {
   "cell_type": "code",
   "execution_count": null,
   "metadata": {},
   "outputs": [],
   "source": []
  },
  {
   "cell_type": "code",
   "execution_count": null,
   "metadata": {},
   "outputs": [],
   "source": []
  }
 ],
 "metadata": {
  "kernelspec": {
   "display_name": "Python 3",
   "language": "python",
   "name": "python3"
  },
  "language_info": {
   "codemirror_mode": {
    "name": "ipython",
    "version": 3
   },
   "file_extension": ".py",
   "mimetype": "text/x-python",
   "name": "python",
   "nbconvert_exporter": "python",
   "pygments_lexer": "ipython3",
   "version": "3.7.4"
  }
 },
 "nbformat": 4,
 "nbformat_minor": 2
}
